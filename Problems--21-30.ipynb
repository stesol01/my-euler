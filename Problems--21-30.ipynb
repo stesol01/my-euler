{
 "cells": [
  {
   "cell_type": "markdown",
   "metadata": {},
   "source": [
    "21\n",
    "---\n",
    "\n",
    "Let d(n) be defined as the sum of proper divisors of n (numbers less than n which divide evenly into n).\n",
    "If d(a) = b and d(b) = a, where a ≠ b, then a and b are an amicable pair and each of a and b are called amicable numbers.\n",
    "\n",
    "For example, the proper divisors of 220 are 1, 2, 4, 5, 10, 11, 20, 22, 44, 55 and 110; therefore d(220) = 284. The proper divisors of 284 are 1, 2, 4, 71 and 142; so d(284) = 220.\n",
    "\n",
    "Evaluate the sum of all the amicable numbers under 10000."
   ]
  },
  {
   "cell_type": "code",
   "execution_count": 5,
   "metadata": {
    "collapsed": false
   },
   "outputs": [
    {
     "name": "stdout",
     "output_type": "stream",
     "text": [
      "220 284\n",
      "1184 1210\n",
      "2620 2924\n",
      "5020 5564\n",
      "6232 6368\n",
      "31626\n"
     ]
    }
   ],
   "source": [
    "from timeit import timeit\n",
    "\n",
    "def divisors(nbr):\n",
    "    divisors = []\n",
    "    for n in range(1,nbr//2+1):\n",
    "        if(nbr % n == 0):\n",
    "            divisors.append(n)\n",
    "    return divisors\n",
    "\n",
    "def sumOfNbr(nbrs):\n",
    "    sums = 0\n",
    "    for n in nbrs:\n",
    "        sums += n\n",
    "    return sums\n",
    "\n",
    "def p21(m):\n",
    "    sums = dict()\n",
    "    sumOfAmicableNbrs = 0\n",
    "    \n",
    "    for n in range(1,m):\n",
    "        sums[n] = sumOfNbr(divisors(n))\n",
    "    for n in range(1,m):\n",
    "        if(sums.__contains__(sums[n]) and n == sums[sums[n]] and n != sums[n] and sums[n] < sums[sums[n]]):\n",
    "            sumOfAmicableNbrs += sums[n] + sums[sums[n]]\n",
    "            print(sums[n], sums[sums[n]])\n",
    "    return sumOfAmicableNbrs\n",
    "\n",
    "print(p21(10000))"
   ]
  },
  {
   "cell_type": "markdown",
   "metadata": {},
   "source": [
    "22\n",
    "---\n",
    "\n",
    "Using names.txt (right click and 'Save Link/Target As...'), a 46K text file containing over five-thousand first names, begin by sorting it into alphabetical order. Then working out the alphabetical value for each name, multiply this value by its alphabetical position in the list to obtain a name score.\n",
    "\n",
    "For example, when the list is sorted into alphabetical order, COLIN, which is worth 3 + 15 + 12 + 9 + 14 = 53, is the 938th name in the list. So, COLIN would obtain a score of 938 × 53 = 49714.\n",
    "\n",
    "What is the total of all the name scores in the file?"
   ]
  },
  {
   "cell_type": "code",
   "execution_count": 17,
   "metadata": {
    "collapsed": false
   },
   "outputs": [
    {
     "name": "stdout",
     "output_type": "stream",
     "text": [
      "871198282\n"
     ]
    }
   ],
   "source": [
    "scores = dict()\n",
    "for n in range(65,91):\n",
    "    scores[chr(n)] = n - 64\n",
    "\n",
    "def getNames(fileName):\n",
    "    nameString = \"\"\n",
    "    try:\n",
    "        file = open(fileName, \"r\")\n",
    "        nameString = file.readline()\n",
    "        file.close\n",
    "        nameString = nameString.replace('\"','')\n",
    "        names = nameString.split(',')\n",
    "        names.sort()\n",
    "        return names\n",
    "    except:\n",
    "        pass\n",
    "\n",
    "def nameScore(names):\n",
    "    score = 0\n",
    "    for i, name in enumerate(names):\n",
    "        nameChars = 0\n",
    "        for char in name:\n",
    "            nameChars += scores[char]\n",
    "        score += nameChars * (i + 1)\n",
    "    return score\n",
    "\n",
    "names = getNames(\"names.txt\")\n",
    "print(nameScore(names))"
   ]
  },
  {
   "cell_type": "markdown",
   "metadata": {},
   "source": [
    "23\n",
    "---\n",
    "\n",
    "A perfect number is a number for which the sum of its proper divisors is exactly equal to the number. For example, the sum of the proper divisors of 28 would be 1 + 2 + 4 + 7 + 14 = 28, which means that 28 is a perfect number.\n",
    "\n",
    "A number n is called deficient if the sum of its proper divisors is less than n and it is called abundant if this sum exceeds n.\n",
    "\n",
    "As 12 is the smallest abundant number, 1 + 2 + 3 + 4 + 6 = 16, the smallest number that can be written as the sum of two abundant numbers is 24. By mathematical analysis, it can be shown that all integers greater than 28123 can be written as the sum of two abundant numbers. However, this upper limit cannot be reduced any further by analysis even though it is known that the greatest number that cannot be expressed as the sum of two abundant numbers is less than this limit.\n",
    "\n",
    "Find the sum of all the positive integers which cannot be written as the sum of two abundant numbers."
   ]
  },
  {
   "cell_type": "code",
   "execution_count": 11,
   "metadata": {
    "collapsed": false
   },
   "outputs": [
    {
     "data": {
      "text/plain": [
       "4179871"
      ]
     },
     "execution_count": 11,
     "metadata": {},
     "output_type": "execute_result"
    }
   ],
   "source": [
    "def divisors(nbr):\n",
    "    divisors = []\n",
    "    for n in range(1,nbr//2+1):\n",
    "        if(nbr % n == 0):\n",
    "            divisors.append(n)\n",
    "    return divisors\n",
    "\n",
    "def divisorSum(nbr):\n",
    "    def divisors(nbr):\n",
    "        divisors = []\n",
    "        for n in range(1,nbr//2+1):\n",
    "            if(nbr % n == 0):\n",
    "                divisors.append(n)\n",
    "        return divisors\n",
    "    \n",
    "    sums = 0\n",
    "    for n in divisors(nbr):\n",
    "        sums += n\n",
    "    return sums\n",
    "\n",
    "def abundantNbrs(n):\n",
    "    abundant = []\n",
    "    for i in range(n):\n",
    "        if divisorSum(i) > i:\n",
    "            abundant.append(i)\n",
    "    return abundant\n",
    "\n",
    "def abundantCheck(nbr):\n",
    "    sumOfNonAbundantNbr = 0\n",
    "    abundant = abundantNbrs(nbr)\n",
    "    nonAbundant = [n for n in range(1,nbr)]\n",
    "    for m in range(0,len(abundant)):\n",
    "        for n in range(m,len(abundant)):\n",
    "            if (abundant[m] + abundant[n]) in nonAbundant:\n",
    "                nonAbundant.remove(abundant[m] + abundant[n])\n",
    "        \n",
    "    for n in nonAbundant:\n",
    "        sumOfNonAbundantNbr += n\n",
    "    return sumOfNonAbundantNbr\n",
    "    \n",
    "print(abundantCheck(28124))"
   ]
  },
  {
   "cell_type": "markdown",
   "metadata": {},
   "source": [
    "24\n",
    "---\n",
    "\n",
    "A permutation is an ordered arrangement of objects. For example, 3124 is one possible permutation of the digits 1, 2, 3 and 4. If all of the permutations are listed numerically or alphabetically, we call it lexicographic order. The lexicographic permutations of 0, 1 and 2 are:\n",
    "\n",
    "012   021   102   120   201   210\n",
    "\n",
    "What is the millionth lexicographic permutation of the digits 0, 1, 2, 3, 4, 5, 6, 7, 8 and 9?"
   ]
  },
  {
   "cell_type": "code",
   "execution_count": 34,
   "metadata": {
    "collapsed": false
   },
   "outputs": [
    {
     "data": {
      "text/plain": [
       "2783915460"
      ]
     },
     "execution_count": 34,
     "metadata": {},
     "output_type": "execute_result"
    }
   ],
   "source": [
    "def permutations(s):\n",
    "    if len(s) <= 1: \n",
    "        yield str(s[0])\n",
    "    else:\n",
    "        for i in range(len(s)):\n",
    "            for p in permutations(s[:i] + s[i+1:]):\n",
    "                yield str(s[i]) + str(p)\n",
    "\n",
    "def lexPermutation():\n",
    "    nbrs = [str(n) for n in range(10)]\n",
    "    perms = permutations(nbrs)\n",
    "    perm = 0\n",
    "    for n in perms:\n",
    "        perm += 1\n",
    "        if perm == 1000000:\n",
    "            return int(n)\n",
    "\n",
    "lexPermutation()"
   ]
  },
  {
   "cell_type": "markdown",
   "metadata": {},
   "source": [
    "25\n",
    "---\n",
    "\n",
    "The Fibonacci sequence is defined by the recurrence relation:\n",
    "\n",
    "Fn = Fn−1 + Fn−2, where F1 = 1 and F2 = 1.\n",
    "Hence the first 12 terms will be:\n",
    "\n",
    "- F1 = 1\n",
    "- F2 = 1\n",
    "- F3 = 2\n",
    "- F4 = 3\n",
    "- F5 = 5\n",
    "- F6 = 8\n",
    "- F7 = 13\n",
    "- F8 = 21\n",
    "- F9 = 34\n",
    "- F10 = 55\n",
    "- F11 = 89\n",
    "- F12 = 144\n",
    "\n",
    "The 12th term, F12, is the first term to contain three digits.\n",
    "\n",
    "What is the index of the first term in the Fibonacci sequence to contain 1000 digits?- "
   ]
  },
  {
   "cell_type": "code",
   "execution_count": 7,
   "metadata": {
    "collapsed": false
   },
   "outputs": [
    {
     "name": "stdout",
     "output_type": "stream",
     "text": [
      "4782\n"
     ]
    }
   ],
   "source": [
    "def fibGenerator():\n",
    "    a, b = 0, 1\n",
    "    while True:\n",
    "        a, b = b, a + b\n",
    "        yield a\n",
    "    \n",
    "\n",
    "def p25():\n",
    "    index = 1\n",
    "    for n in fibGenerator():\n",
    "        if len(str(n)) >= 1000:\n",
    "            return index\n",
    "        index += 1\n",
    "    \n",
    "print(p25())"
   ]
  },
  {
   "cell_type": "markdown",
   "metadata": {},
   "source": [
    "26\n",
    "---\n",
    "\n",
    "A unit fraction contains 1 in the numerator. The decimal representation of the unit fractions with denominators 2 to 10 are given:\n",
    "\n",
    "- 1/2\t= \t0.5\n",
    "- 1/3\t= \t0.(3)\n",
    "- 1/4\t= \t0.25\n",
    "- 1/5\t= \t0.2\n",
    "- 1/6\t= \t0.1(6)\n",
    "- 1/7\t= \t0.(142857)\n",
    "- 1/8\t= \t0.125\n",
    "- 1/9\t= \t0.(1)\n",
    "- 1/10\t= \t0.1\n",
    "\n",
    "Where 0.1(6) means 0.166666..., and has a 1-digit recurring cycle. It can be seen that 1/7 has a 6-digit recurring cycle.\n",
    "\n",
    "Find the value of d < 1000 for which 1/d contains the longest recurring cycle in its decimal fraction part."
   ]
  },
  {
   "cell_type": "code",
   "execution_count": 2,
   "metadata": {
    "collapsed": false
   },
   "outputs": [
    {
     "data": {
      "text/plain": [
       "(983, 982)"
      ]
     },
     "execution_count": 2,
     "metadata": {},
     "output_type": "execute_result"
    }
   ],
   "source": [
    "from decimal import *\n",
    "\n",
    "def decimalCycle(n):\n",
    "    while n % 2 == 0:\n",
    "        n = n // 2\n",
    "    while n % 5 == 0:\n",
    "        n = n // 5\n",
    "    #10^lambda mod n == 1 or longdivision until remainder is 1\n",
    "    if n == 1:\n",
    "        return 0\n",
    "    count = 1\n",
    "    while 10**count % n != 1:\n",
    "        count += 1\n",
    "    return count\n",
    "    \n",
    "def p26():\n",
    "    cycles = []\n",
    "    for n in range(2,1000):\n",
    "        cycles.append((n,decimalCycle(n)))\n",
    "    nbr, maxCycle = 0, 0\n",
    "    for n in cycles:\n",
    "        if maxCycle < n[1]:\n",
    "            nbr, maxCycle = n[0], n[1]\n",
    "    return nbr,maxCycle\n",
    "\n",
    "p26()"
   ]
  },
  {
   "cell_type": "markdown",
   "metadata": {},
   "source": [
    "27\n",
    "---\n",
    "\n",
    "Euler discovered the remarkable quadratic formula:\n",
    "\n",
    "n² + n + 41\n",
    "\n",
    "It turns out that the formula will produce 40 primes for the consecutive values n = 0 to 39. However, when n = 40, 402 + 40 + 41 = 40(40 + 1) + 41 is divisible by 41, and certainly when n = 41, 41² + 41 + 41 is clearly divisible by 41.\n",
    "\n",
    "The incredible formula  n² − 79n + 1601 was discovered, which produces 80 primes for the consecutive values n = 0 to 79. The product of the coefficients, −79 and 1601, is −126479.\n",
    "\n",
    "Considering quadratics of the form:\n",
    "\n",
    "n² + an + b, where |a| < 1000 and |b| < 1000\n",
    "\n",
    "where |n| is the modulus/absolute value of n\n",
    "e.g. |11| = 11 and |−4| = 4\n",
    "Find the product of the coefficients, a and b, for the quadratic expression that produces the maximum number of primes for consecutive values of n, starting with n = 0."
   ]
  },
  {
   "cell_type": "code",
   "execution_count": 1,
   "metadata": {
    "collapsed": false
   },
   "outputs": [
    {
     "data": {
      "text/plain": [
       "(-59231, 70)"
      ]
     },
     "execution_count": 1,
     "metadata": {},
     "output_type": "execute_result"
    }
   ],
   "source": [
    "def isPrime(nbr):\n",
    "    if(nbr < 2): return False\n",
    "    if(nbr == 2): return True\n",
    "    if(nbr == 3): return True\n",
    "    if(nbr == 5): return True\n",
    "    if(nbr % 2 == 0): return False\n",
    "    if(nbr % 3 == 0): return False\n",
    "    if(nbr % 5 == 0): return False\n",
    "    limit = int(nbr**0.5 + 1)\n",
    "    for n in range(3,limit,2):\n",
    "        if(nbr % n == 0):\n",
    "            return False\n",
    "    return True\n",
    "\n",
    "def p27(lower, higher):\n",
    "    series, product = 0, 0\n",
    "    for a in range(lower, higher):\n",
    "        for b in range(lower, higher):\n",
    "            n = 0\n",
    "            while(isPrime(n*n + a*n + b)):\n",
    "                if n > series:\n",
    "                    series = n\n",
    "                    product = a * b\n",
    "                n += 1\n",
    "    return product, series\n",
    "\n",
    "\n",
    "p27(-999, 1000)"
   ]
  },
  {
   "cell_type": "markdown",
   "metadata": {},
   "source": [
    "28\n",
    "---\n",
    "\n",
    "Starting with the number 1 and moving to the right in a clockwise direction a 5 by 5 spiral is formed as follows:\n",
    "\n",
    "21 22 23 24 25\n",
    "\n",
    "20  7  8  9 10\n",
    "\n",
    "19  6  1  2 11\n",
    "\n",
    "18  5  4  3 12\n",
    "\n",
    "17 16 15 14 13\n",
    "\n",
    "It can be verified that the sum of the numbers on the diagonals is 101.\n",
    "\n",
    "What is the sum of the numbers on the diagonals in a 1001 by 1001 spiral formed in the same way?"
   ]
  },
  {
   "cell_type": "code",
   "execution_count": 47,
   "metadata": {
    "collapsed": false
   },
   "outputs": [
    {
     "name": "stdout",
     "output_type": "stream",
     "text": [
      "669171001\n"
     ]
    }
   ],
   "source": [
    "def spiral(m, n):\n",
    "    x,y = 0,0   \n",
    "    dx, dy = 0, -1\n",
    "\n",
    "    for dumb in range(m*n):\n",
    "#        if (-m/2 < x <= m/2) and (-n/2 < y <= n/2):\n",
    " #           print (x, y)\n",
    "\n",
    "        if x == y or (x < 0 and x == -y) or (x > 0 and x == 1-y):\n",
    "            dx, dy = -dy, dx\n",
    "\n",
    "        yield x, y\n",
    "        x, y = x+dx, y+dy\n",
    "    \n",
    "def gen_spiral(m,n):\n",
    "    spiralt = [[0 for i in range(n)] for j in range(m)]\n",
    "    spiralGen = spiral(m,n)\n",
    "    for notUsed in range(1,m*n+1):\n",
    "        a,b = spiralGen.next()\n",
    "        spiralt[m//2 + b][n//2 + a] = notUsed\n",
    "    return spiralt\n",
    "        \n",
    "def p29(m,n):\n",
    "    spiral = gen_spiral(m,n)\n",
    "    diagnoalSum = 0\n",
    "    for i in range(m):\n",
    "        diagnoalSum += spiral[i][i]\n",
    "        diagnoalSum += spiral[i][m-i-1]\n",
    "    print(diagnoalSum-1)\n",
    "    \n",
    "p29(1001,1001)"
   ]
  },
  {
   "cell_type": "markdown",
   "metadata": {},
   "source": [
    "29\n",
    "---\n",
    "\n",
    "Consider all integer combinations of ab for 2 ≤ a ≤ 5 and 2 ≤ b ≤ 5:\n",
    "\n",
    "2^2=4, 2^3=8, 2^4=16, 2^5=32\n",
    "\n",
    "32=9, 33=27, 34=81, 35=243\n",
    "\n",
    "42=16, 43=64, 44=256, 45=1024\n",
    "\n",
    "52=25, 53=125, 54=625, 55=3125\n",
    "\n",
    "If they are then placed in numerical order, with any repeats removed, we get the following sequence of 15 distinct terms:\n",
    "\n",
    "4, 8, 9, 16, 25, 27, 32, 64, 81, 125, 243, 256, 625, 1024, 3125\n",
    "\n",
    "How many distinct terms are in the sequence generated by ab for 2 ≤ a ≤ 100 and 2 ≤ b ≤ 100?"
   ]
  },
  {
   "cell_type": "code",
   "execution_count": 2,
   "metadata": {
    "collapsed": false
   },
   "outputs": [
    {
     "data": {
      "text/plain": [
       "9183"
      ]
     },
     "execution_count": 2,
     "metadata": {},
     "output_type": "execute_result"
    }
   ],
   "source": [
    "def p29(a,b):\n",
    "    distinctTerms = []\n",
    "    for m in range(2,a + 1):\n",
    "        for n in range(2, b + 1):\n",
    "            if not(m**n in distinctTerms):\n",
    "                distinctTerms.append(m**n)\n",
    "    return len(distinctTerms)\n",
    "\n",
    "p29(100,100)"
   ]
  },
  {
   "cell_type": "markdown",
   "metadata": {},
   "source": [
    "30\n",
    "---\n",
    "\n",
    "Surprisingly there are only three numbers that can be written as the sum of fourth powers of their digits:\n",
    "\n",
    "1634 = 1^4 + 6^4 + 3^4 + 4^4\n",
    "\n",
    "\n",
    "8208 = 8^4 + 2^4 + 0^4 + 8^4\n",
    "\n",
    "9474 = 9^4 + 4^4 + 7^4 + 4^4\n",
    "\n",
    "As 1 = 14 is not a sum it is not included.\n",
    "\n",
    "The sum of these numbers is 1634 + 8208 + 9474 = 19316.\n",
    "\n",
    "Find the sum of all the numbers that can be written as the sum of fifth powers of their digits."
   ]
  },
  {
   "cell_type": "code",
   "execution_count": 3,
   "metadata": {
    "collapsed": false
   },
   "outputs": [
    {
     "name": "stdout",
     "output_type": "stream",
     "text": [
      "6 443839\n"
     ]
    }
   ],
   "source": [
    "count = 0\n",
    "totalSum = 0\n",
    "for nbr in range(10,10000000):\n",
    "    nbrString = str(nbr)\n",
    "    summ = 0\n",
    "    for char in nbrString:\n",
    "        summ += int(char) ** 5\n",
    "        if summ > nbr:\n",
    "            continue\n",
    "    if summ == nbr:\n",
    "        count += 1\n",
    "        totalSum += nbr\n",
    "print(count, totalSum)"
   ]
  }
 ],
 "metadata": {
  "kernelspec": {
   "display_name": "Python 3",
   "language": "python",
   "name": "python3"
  },
  "language_info": {
   "codemirror_mode": {
    "name": "ipython",
    "version": 3
   },
   "file_extension": ".py",
   "mimetype": "text/x-python",
   "name": "python",
   "nbconvert_exporter": "python",
   "pygments_lexer": "ipython3",
   "version": "3.6.5"
  }
 },
 "nbformat": 4,
 "nbformat_minor": 2
}

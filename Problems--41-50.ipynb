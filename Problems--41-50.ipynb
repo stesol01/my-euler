{
 "cells": [
  {
   "cell_type": "markdown",
   "metadata": {},
   "source": [
    "Username: stesol01\n",
    "\n",
    "password: solander83\n",
    "\n",
    "key:\n",
    "\n",
    "967147-hvNJB9NPVeBDCI0Ey1moHauKITbDVxnxP8MPb4uY"
   ]
  },
  {
   "cell_type": "markdown",
   "metadata": {},
   "source": [
    "41\n",
    "---\n",
    "\n",
    "We shall say that an n-digit number is pandigital if it makes use of all the digits 1 to n exactly once. For example, 2143 is a 4-digit pandigital and is also prime.\n",
    "\n",
    "What is the largest n-digit pandigital prime that exists?"
   ]
  },
  {
   "cell_type": "code",
   "execution_count": 26,
   "metadata": {},
   "outputs": [
    {
     "data": {
      "text/plain": [
       "'7652413'"
      ]
     },
     "execution_count": 26,
     "metadata": {},
     "output_type": "execute_result"
    }
   ],
   "source": [
    "from itertools import permutations\n",
    "from math import ceil, sqrt\n",
    "\n",
    "def isPrime(nbr):\n",
    "    if(nbr == 1): return False\n",
    "    if(nbr == 2): return True\n",
    "    if(nbr == 3): return True\n",
    "    if(nbr == 5): return True\n",
    "    if(nbr % 2 == 0): return False\n",
    "    if(nbr % 3 == 0): return False\n",
    "    if(nbr % 5 == 0): return False\n",
    "    limit = int(ceil(sqrt(nbr)) + 1)\n",
    "    for n in range(3,limit,2):\n",
    "        if(nbr % n == 0):\n",
    "            return False\n",
    "    return True\n",
    "\n",
    "numbers = \"1\"\n",
    "maxat = 0\n",
    "for digit in range(2, 10):\n",
    "    numbers += str(digit)\n",
    "    for n in permutations(numbers, digit):\n",
    "        numb = \"\"\n",
    "        for char in n:\n",
    "            numb += char\n",
    "        if isPrime(int(numb)):\n",
    "            maxat = numb\n",
    "maxat"
   ]
  },
  {
   "cell_type": "markdown",
   "metadata": {},
   "source": [
    "42\n",
    "---\n",
    "\n",
    "The nth term of the sequence of triangle numbers is given by, tn = ½n(n+1); so the first ten triangle numbers are:\n",
    "\n",
    "1, 3, 6, 10, 15, 21, 28, 36, 45, 55, ...\n",
    "\n",
    "By converting each letter in a word to a number corresponding to its alphabetical position and adding these values we form a word value. For example, the word value for SKY is 19 + 11 + 25 = 55 = t10. If the word value is a triangle number then we shall call the word a triangle word.\n",
    "\n",
    "Using words.txt (right click and 'Save Link/Target As...'), a 16K text file containing nearly two-thousand common English words, how many are triangle words?"
   ]
  },
  {
   "cell_type": "code",
   "execution_count": 21,
   "metadata": {},
   "outputs": [
    {
     "name": "stdout",
     "output_type": "stream",
     "text": [
      "162\n"
     ]
    }
   ],
   "source": [
    "def isTriNbr(n):\n",
    "    nbr = 0\n",
    "    counter = 1\n",
    "    while nbr < n:\n",
    "        nbr = counter*(counter+1)//2\n",
    "        if nbr == n:\n",
    "            return True\n",
    "        counter += 1\n",
    "    return False\n",
    "\n",
    "file = open(\"words.txt\", \"r\")\n",
    "words = \"\"\n",
    "for line in file:\n",
    "    words = line.split(\",\")\n",
    "file.close()\n",
    "\n",
    "wordsClean = []\n",
    "for word in words:\n",
    "    wordsClean.append(word.strip('\"'))\n",
    "\n",
    "counter = 0\n",
    "for word in wordsClean:\n",
    "    wordValue = 0\n",
    "    for char in word:\n",
    "        wordValue += ord(char)-64\n",
    "    if isTriNbr(wordValue):\n",
    "        counter += 1\n",
    "print(counter)"
   ]
  },
  {
   "cell_type": "markdown",
   "metadata": {},
   "source": [
    "43\n",
    "---\n",
    "\n",
    "The number, 1406357289, is a 0 to 9 pandigital number because it is made up of each of the digits 0 to 9 in some order, but it also has a rather interesting sub-string divisibility property.\n",
    "\n",
    "Let d1 be the 1st digit, d2 be the 2nd digit, and so on. In this way, we note the following:\n",
    "\n",
    "d2d3d4=406 is divisible by 2\n",
    "\n",
    "d3d4d5=063 is divisible by 3\n",
    "\n",
    "d4d5d6=635 is divisible by 5\n",
    "\n",
    "d5d6d7=357 is divisible by 7\n",
    "\n",
    "d6d7d8=572 is divisible by 11\n",
    "\n",
    "d7d8d9=728 is divisible by 13\n",
    "\n",
    "d8d9d10=289 is divisible by 17\n",
    "\n",
    "Find the sum of all 0 to 9 pandigital numbers with this property."
   ]
  },
  {
   "cell_type": "code",
   "execution_count": 1,
   "metadata": {},
   "outputs": [
    {
     "name": "stdout",
     "output_type": "stream",
     "text": [
      "16695334890\n"
     ]
    }
   ],
   "source": [
    "def isDivisible(n):\n",
    "    n = str(n)\n",
    "    divisibles = [2,3,5,7,11,13,17]\n",
    "    for d in range(1,8):\n",
    "        sub = int(n[d:d+3])\n",
    "        if sub % divisibles[d-1] != 0:\n",
    "            return False\n",
    "    return True\n",
    "\n",
    "from itertools import permutations\n",
    "sums = 0\n",
    "for n in permutations(\"1234567890\", 10):\n",
    "    numb = \"\"\n",
    "    for char in n:\n",
    "        numb += char\n",
    "    if isDivisible(int(numb)):\n",
    "        sums += int(numb)\n",
    "        \n",
    "print(sums)"
   ]
  },
  {
   "cell_type": "markdown",
   "metadata": {},
   "source": [
    "44\n",
    "---\n",
    "\n",
    "Pentagonal numbers are generated by the formula, Pn=n(3n−1)/2. The first ten pentagonal numbers are:\n",
    "\n",
    "1, 5, 12, 22, 35, 51, 70, 92, 117, 145, ...\n",
    "\n",
    "It can be seen that P4 + P7 = 22 + 70 = 92 = P8. However, their difference, 70 − 22 = 48, is not pentagonal.\n",
    "\n",
    "Find the pair of pentagonal numbers, Pj and Pk, for which their sum and difference are pentagonal and D = |Pk − Pj| is minimised; what is the value of D?"
   ]
  },
  {
   "cell_type": "code",
   "execution_count": 11,
   "metadata": {},
   "outputs": [
    {
     "name": "stdout",
     "output_type": "stream",
     "text": [
      "100\n"
     ]
    }
   ],
   "source": [
    "def pentNbr(n):\n",
    "    return n * (3*n - 1) / 2\n",
    "\n",
    "def nPentNbr(t):\n",
    "    return (2*t/3 + 1/36)**0.5 + 1/6\n",
    "\n",
    "def isPentNbr(t):\n",
    "    n = int(nPentNbr(t))\n",
    "\n",
    "    \n",
    "sums = 0\n",
    "diffs = 100\n",
    "for n in range(1,1000):\n",
    "    testSum = pentNbr(n) + pentNbr(n+1)\n",
    "    testDiffs = pentNbr(n+1) - pentNbr(n)\n",
    "    counter = 1\n",
    "    testS = False\n",
    "    testD = False\n",
    "    while pentNbr(testSum) > pentNbr(counter):\n",
    "        if pentNbr(counter) == testSum:\n",
    "        if pentNbr(counter) == testDiffs:\n",
    "            testD = True\n",
    "        if testS and testD:\n",
    "            sums = testSum\n",
    "            diffs = testDiffs\n",
    "            break\n",
    "        counter += 1\n",
    "\n",
    "print(diffs)"
   ]
  },
  {
   "cell_type": "code",
   "execution_count": null,
   "metadata": {},
   "outputs": [],
   "source": [
    "\n",
    "    "
   ]
  },
  {
   "cell_type": "code",
   "execution_count": 23,
   "metadata": {},
   "outputs": [
    {
     "data": {
      "text/plain": [
       "True"
      ]
     },
     "execution_count": 23,
     "metadata": {},
     "output_type": "execute_result"
    }
   ],
   "source": [
    "\n"
   ]
  }
 ],
 "metadata": {
  "kernelspec": {
   "display_name": "Python 3",
   "language": "python",
   "name": "python3"
  },
  "language_info": {
   "codemirror_mode": {
    "name": "ipython",
    "version": 3
   },
   "file_extension": ".py",
   "mimetype": "text/x-python",
   "name": "python",
   "nbconvert_exporter": "python",
   "pygments_lexer": "ipython3",
   "version": "3.6.5"
  }
 },
 "nbformat": 4,
 "nbformat_minor": 2
}
